{
  "nbformat": 4,
  "nbformat_minor": 0,
  "metadata": {
    "colab": {
      "name": "Untitled9.ipynb",
      "provenance": []
    },
    "kernelspec": {
      "name": "python3",
      "display_name": "Python 3"
    },
    "language_info": {
      "name": "python"
    }
  },
  "cells": [
    {
      "cell_type": "code",
      "metadata": {
        "colab": {
          "base_uri": "https://localhost:8080/"
        },
        "id": "lXzbYuW6GAXt",
        "outputId": "773bea1c-f8cd-4d09-97af-9df796cb0e0a"
      },
      "source": [
        "from collections import Counter \n",
        "    \n",
        "# initializing string  \n",
        "#in_str = \"Tahani hussian \"\n",
        "in_str = str(input(\"Enter a text: \"))\n",
        "    \n",
        "# using collections.Counter() to get  \n",
        "# count of each element in string  \n",
        "oup = Counter(in_str) \n",
        "# printing result  \n",
        "print (\"Occurrence of all characters in your text is :\\n \"+ str(oup)) "
      ],
      "execution_count": 10,
      "outputs": [
        {
          "output_type": "stream",
          "name": "stdout",
          "text": [
            "Enter a text: I always wanted to become a writer\n",
            "Occurrence of all characters in your text is :\n",
            " Counter({' ': 6, 'a': 4, 'e': 4, 'w': 3, 't': 3, 'o': 2, 'r': 2, 'I': 1, 'l': 1, 'y': 1, 's': 1, 'n': 1, 'd': 1, 'b': 1, 'c': 1, 'm': 1, 'i': 1})\n"
          ]
        }
      ]
    }
  ]
}